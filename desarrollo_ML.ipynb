{
 "cells": [
  {
   "cell_type": "markdown",
   "metadata": {},
   "source": [
    "# Desarroyo de Modelo de Machine Learning\n"
   ]
  },
  {
   "cell_type": "markdown",
   "metadata": {},
   "source": [
    "### DataFrame que voy a utilizar para alimentar mi modelo de prediccion item x item. Analiza los tags de cada uno de los items y recomienda en base a ellos.\n",
    "\n",
    "Para la implementacion del modelo utilizo 2 dataframes. Uno donde solo almaceno los mejores 2000 juegos (en base a su \"score\")y otro donde estan todos.\n",
    "\n",
    "En el dataframe reducido se utilizará para entrenar el modelo de recomendacion. En base a este modelo entrenado existen dos posibles alternativas:\n",
    "\n",
    "- Que el juego ingresado para que se haga la recomendacion esté en el modelo, en tal caso se realizará una recomendacion sin necesidad de utilziar computo practicamente, solo será una busqueda en por indice, ya que se utilizará un archivo .pkl donde estrá nuestro modelo entrenado(caso ideal para optimizar recursos)\n",
    "\n",
    "- Que el juego ingresado para que se haga la recomendacion no esté en el modelo original, en tal caso se deberá realizar el procedimiento enterp, añadiendo ese juego con sus caracteristicas al df de donde se sacan las recomendaciones.\n",
    "\n",
    "- Los dos Dataframes utilizados para este modelo se encuentran en el notebook Dataframes_API.ipynb"
   ]
  },
  {
   "cell_type": "code",
   "execution_count": 1,
   "metadata": {},
   "outputs": [],
   "source": [
    "import pandas as pd\n",
    "df_ML = pd.read_csv(r\"data_api\\datos_ML.csv\")\n",
    "df_ML_reduced = pd.read_csv(r\"data_api\\datos_ML_reduced.csv\")"
   ]
  },
  {
   "cell_type": "code",
   "execution_count": 2,
   "metadata": {},
   "outputs": [],
   "source": [
    "#importamos librerias, voy a utilizar CountVectorizer para poder vectorizar la informacion. \n",
    "#para esto usamos CountVectorizer\n",
    "from sklearn.feature_extraction.text import CountVectorizer\n",
    "cv = CountVectorizer(max_features=45, stop_words=\"english\")"
   ]
  },
  {
   "cell_type": "markdown",
   "metadata": {},
   "source": [
    "Vectorizamos para pasar texto a un vector lo que nos permite haces comparaciones entre ellos y encontrar similitudes de coseno."
   ]
  },
  {
   "cell_type": "code",
   "execution_count": 3,
   "metadata": {},
   "outputs": [],
   "source": [
    "#toarray() para convertirlo en un array de numpy. seleccionamos solo las 2000 mejor puntuadas\n",
    "vectors = cv.fit_transform(df_ML_reduced[\"tags\"]).toarray()"
   ]
  },
  {
   "cell_type": "code",
   "execution_count": null,
   "metadata": {},
   "outputs": [],
   "source": [
    "print(vectors)"
   ]
  },
  {
   "cell_type": "code",
   "execution_count": 4,
   "metadata": {},
   "outputs": [],
   "source": [
    "#ahora vamos a aplicar el algoritmo de coseno de similitud\n",
    "#importamos cosine_similarity y la aplicamos a nuestra data que vamos a usar para el modelo.\n",
    "from sklearn.metrics.pairwise import cosine_similarity\n",
    "similarity=cosine_similarity(vectors)"
   ]
  },
  {
   "cell_type": "code",
   "execution_count": 5,
   "metadata": {},
   "outputs": [
    {
     "data": {
      "text/plain": [
       "['modelo_entrenado.pkl']"
      ]
     },
     "execution_count": 5,
     "metadata": {},
     "output_type": "execute_result"
    }
   ],
   "source": [
    "#exportamos el modelo para despues no tener que volver a entrenarlo\n",
    "import joblib\n",
    "joblib.dump(similarity,'modelo_entrenado.pkl')"
   ]
  },
  {
   "cell_type": "code",
   "execution_count": 6,
   "metadata": {},
   "outputs": [
    {
     "data": {
      "text/plain": [
       "(2000, 2000)"
      ]
     },
     "execution_count": 6,
     "metadata": {},
     "output_type": "execute_result"
    }
   ],
   "source": [
    "similarity.shape"
   ]
  },
  {
   "cell_type": "code",
   "execution_count": 7,
   "metadata": {},
   "outputs": [],
   "source": [
    "#esta es la funcion con la que implementariamos el modelo, como vemo hacer unas recomendaciones bastantes acertadas sin caer en la reduncancia.\n",
    "#dentro de los try y except no se puede llamar a variables externas a la funcion por o que me veo forzado a correr siempre la carga del modelo.\n",
    "#basicamente aplica una busqueda por id al modelo.\n",
    "\n",
    "#si no lo encuentra en primera instancia, pasa a crear el registro, añadirlo y realizar la prediccion.\n",
    "def recommend(id_item):\n",
    "    try:\n",
    "        similarity = joblib.load('modelo_entrenado.pkl')\n",
    "        idx = df_ML_reduced[df_ML_reduced[\"item_id\"] == id_item].index[0]\n",
    "        distances = similarity[idx]   \n",
    "        jueguito = sorted(list(enumerate(distances)), reverse=True, key= lambda x:x[1])[1:6]\n",
    "        respon = {\"tu juego es\" : df_ML_reduced[df_ML_reduced[\"item_id\"]==id_item].iloc[0,1],\n",
    "                \"recomendaciones\": []}\n",
    "        for i in jueguito:\n",
    "            respon[\"recomendaciones\"].append(df_ML_reduced.iloc[i[0]].title)\n",
    "        \n",
    "        return respon\n",
    "    except IndexError:\n",
    "        print(\"buscando recomendaciones, por favor espere\")\n",
    "        new_game = df_ML[df_ML[\"item_id\"] == id_item]\n",
    "        df_combined = pd.concat([df_ML,new_game])\n",
    "        vectors = cv.fit_transform(df_combined[\"tags\"]).toarray()\n",
    "        similarity=cosine_similarity(vectors)\n",
    "        idx = df_combined[df_combined[\"item_id\"] == id_item].index[0]\n",
    "        distances = similarity[idx]   \n",
    "        jueguito = sorted(list(enumerate(distances)), reverse=True, key= lambda x:x[1])[1:6]\n",
    "        respon = {\"tu juego es\" : df_combined[df_combined[\"item_id\"]==id_item].iloc[0,1],\n",
    "        \"recomendaciones\": []}\n",
    "        for i in jueguito:\n",
    "            respon[\"recomendaciones\"].append(df_combined.iloc[i[0]].title)\n",
    "            \n",
    "        return respon\n",
    "            \n"
   ]
  },
  {
   "cell_type": "markdown",
   "metadata": {},
   "source": [
    "Prueba con id de juego que no estaba dentro del df que se uso para hacer el modelo ya que este se hizo unicamente con los primeros 2000 juegos basados en un score."
   ]
  },
  {
   "cell_type": "code",
   "execution_count": 8,
   "metadata": {},
   "outputs": [
    {
     "name": "stdout",
     "output_type": "stream",
     "text": [
      "buscando recomendaciones, por favor espere\n"
     ]
    },
    {
     "data": {
      "text/plain": [
       "{'tu juego es': 'Lost Summoner Kitty',\n",
       " 'recomendaciones': ['Wildlife Park 2 - Fantasy',\n",
       "  'Mad Games Tycoon',\n",
       "  'Wildlife Park 2',\n",
       "  'BalanCity',\n",
       "  'Lost Summoner Kitty']}"
      ]
     },
     "execution_count": 8,
     "metadata": {},
     "output_type": "execute_result"
    }
   ],
   "source": [
    "recommend(761140.0) "
   ]
  },
  {
   "cell_type": "markdown",
   "metadata": {},
   "source": [
    "### Pruebas de modelos con *Counter-Strike*"
   ]
  },
  {
   "cell_type": "markdown",
   "metadata": {},
   "source": [
    "En las siguientes lineas voy a probar hiperparametros. unicamente voy a cambiar el \"max_features\" que hace referencia a la cantidad de tags que estaria tomando de la tabla df_itemsxitems\n",
    "\n",
    "Lo que estoy buscando especificamente es que no recomiende con una perfeccion del 100% ya que mientras mas potente sea el modelo, mas esperables son las recomendaciones.\n",
    "\n",
    "En los casos en que teniamos un elevado nivel de features y mas juegos en nuestra base de datos, mas esperables son los resultados.\n",
    "\n",
    "En mi modelo no pretendo lograr una recomendacion perfecta pues, si pido una recomendacion de un juego con base a algo que ya he jugado, lo mas probable es que ya conosca de sus secuelas o otras adaptaciones. Una recomendacion a mi parecer debe ser lo suficientemente cercana al juego original como para manterer ciertas \"features\" que hacen al genero o tipo de jugabilidad, pero no tanto como para que sea redundante (como sucede en la primer muestra)\n",
    "\n",
    "\n",
    "Por este motivo elijo entrenar a mi con esos hiperparametros especificos. \n",
    "\n",
    "Tambien debo aclarar que elegi este juego por que era el primero de la lista por su numero de id y por que es casi conocido por todos. Esta misma logica dudo que se aplique para el total de los juegos de nuestra base de datos."
   ]
  },
  {
   "cell_type": "code",
   "execution_count": 14,
   "metadata": {},
   "outputs": [
    {
     "data": {
      "text/plain": [
       "{'tu juego es': 'Counter-Strike',\n",
       " 'recomendaciones': [\"Tom Clancy's Rainbow Six® Siege - Ultra HD Texture Pack\",\n",
       "  'Empires Mod',\n",
       "  'Deathmatch Classic',\n",
       "  'Day of Defeat',\n",
       "  'ARMA: Gold Edition']}"
      ]
     },
     "execution_count": 14,
     "metadata": {},
     "output_type": "execute_result"
    }
   ],
   "source": [
    "recommend(10) #max_features = 2000. 5000 juegos en la base de datos"
   ]
  },
  {
   "cell_type": "code",
   "execution_count": 15,
   "metadata": {},
   "outputs": [
    {
     "data": {
      "text/plain": [
       "{'tu juego es': 'Counter-Strike',\n",
       " 'recomendaciones': [\"Tom Clancy's Rainbow Six® Siege - Ultra HD Texture Pack\",\n",
       "  'Empires Mod',\n",
       "  'Deathmatch Classic',\n",
       "  'Day of Defeat',\n",
       "  'ARMA: Gold Edition']}"
      ]
     },
     "execution_count": 15,
     "metadata": {},
     "output_type": "execute_result"
    }
   ],
   "source": [
    "recommend(10) #max_features = 500  2000 juegos en la base de datos"
   ]
  },
  {
   "cell_type": "code",
   "execution_count": 16,
   "metadata": {},
   "outputs": [
    {
     "data": {
      "text/plain": [
       "{'tu juego es': 'Counter-Strike',\n",
       " 'recomendaciones': [\"Tom Clancy's Rainbow Six® Siege - Ultra HD Texture Pack\",\n",
       "  'Empires Mod',\n",
       "  'Deathmatch Classic',\n",
       "  'Day of Defeat',\n",
       "  'ARMA: Gold Edition']}"
      ]
     },
     "execution_count": 16,
     "metadata": {},
     "output_type": "execute_result"
    }
   ],
   "source": [
    "recommend(10) #max_features = 50   2000 juegos en la base de datos"
   ]
  },
  {
   "cell_type": "code",
   "execution_count": 12,
   "metadata": {},
   "outputs": [
    {
     "data": {
      "text/plain": [
       "{'tu juego es': 'Counter-Strike',\n",
       " 'recomendaciones': [\"Tom Clancy's Rainbow Six® Siege - Ultra HD Texture Pack\",\n",
       "  'Empires Mod',\n",
       "  'Deathmatch Classic',\n",
       "  'Day of Defeat',\n",
       "  'ARMA: Gold Edition']}"
      ]
     },
     "execution_count": 12,
     "metadata": {},
     "output_type": "execute_result"
    }
   ],
   "source": [
    "recommend(10) #max_feautures = 40   2000 juegos en la base de datos"
   ]
  },
  {
   "cell_type": "code",
   "execution_count": 13,
   "metadata": {},
   "outputs": [
    {
     "data": {
      "text/plain": [
       "{'tu juego es': 'Counter-Strike',\n",
       " 'recomendaciones': [\"Tom Clancy's Rainbow Six® Siege - Ultra HD Texture Pack\",\n",
       "  'Empires Mod',\n",
       "  'Deathmatch Classic',\n",
       "  'Day of Defeat',\n",
       "  'ARMA: Gold Edition']}"
      ]
     },
     "execution_count": 13,
     "metadata": {},
     "output_type": "execute_result"
    }
   ],
   "source": [
    "recommend(10) #max_features = 45   2000 juegos en la base de datos"
   ]
  }
 ],
 "metadata": {
  "kernelspec": {
   "display_name": "env",
   "language": "python",
   "name": "python3"
  },
  "language_info": {
   "codemirror_mode": {
    "name": "ipython",
    "version": 3
   },
   "file_extension": ".py",
   "mimetype": "text/x-python",
   "name": "python",
   "nbconvert_exporter": "python",
   "pygments_lexer": "ipython3",
   "version": "3.7.9"
  },
  "orig_nbformat": 4
 },
 "nbformat": 4,
 "nbformat_minor": 2
}
